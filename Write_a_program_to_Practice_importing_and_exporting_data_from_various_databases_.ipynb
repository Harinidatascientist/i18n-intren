{
  "nbformat": 4,
  "nbformat_minor": 0,
  "metadata": {
    "colab": {
      "provenance": [],
      "authorship_tag": "ABX9TyP/ZQvVKyuJPZPVWjyj7bvQ",
      "include_colab_link": true
    },
    "kernelspec": {
      "name": "python3",
      "display_name": "Python 3"
    },
    "language_info": {
      "name": "python"
    }
  },
  "cells": [
    {
      "cell_type": "markdown",
      "metadata": {
        "id": "view-in-github",
        "colab_type": "text"
      },
      "source": [
        "<a href=\"https://colab.research.google.com/github/Harinidatascientist/i18n-intren/blob/main/Write_a_program_to_Practice_importing_and_exporting_data_from_various_databases_.ipynb\" target=\"_parent\"><img src=\"https://colab.research.google.com/assets/colab-badge.svg\" alt=\"Open In Colab\"/></a>"
      ]
    },
    {
      "cell_type": "code",
      "execution_count": 1,
      "metadata": {
        "colab": {
          "base_uri": "https://localhost:8080/"
        },
        "id": "Llfbp5LjcNTd",
        "outputId": "47d63e17-bd1e-46d6-ebfc-abb1c6f6d3a4"
      },
      "outputs": [
        {
          "output_type": "stream",
          "name": "stdout",
          "text": [
            "   id   name  salary\n",
            "0   1  Alice   50000\n",
            "1   2    Bob   60000\n"
          ]
        }
      ],
      "source": [
        "import sqlite3\n",
        "import pandas as pd\n",
        "\n",
        "conn = sqlite3.connect(\"example.db\")  # Connect to the database\n",
        "pd.DataFrame({\"id\": [1, 2], \"name\": [\"Alice\", \"Bob\"], \"salary\": [50000, 60000]}).to_sql(\"employees\", conn, if_exists=\"replace\", index=False)  # Insert data\n",
        "df = pd.read_sql(\"SELECT * FROM employees\", conn)  # Fetch data\n",
        "df.to_csv(\"employees.csv\", index=False)  # Export to CSV\n",
        "print(pd.read_csv(\"employees.csv\"))  # Import and display data from CSV"
      ]
    }
  ]
}