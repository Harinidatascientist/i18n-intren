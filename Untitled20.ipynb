{
  "nbformat": 4,
  "nbformat_minor": 0,
  "metadata": {
    "colab": {
      "provenance": [],
      "authorship_tag": "ABX9TyMHCYevzEiB699e1Aq5BxwR",
      "include_colab_link": true
    },
    "kernelspec": {
      "name": "python3",
      "display_name": "Python 3"
    },
    "language_info": {
      "name": "python"
    }
  },
  "cells": [
    {
      "cell_type": "markdown",
      "metadata": {
        "id": "view-in-github",
        "colab_type": "text"
      },
      "source": [
        "<a href=\"https://colab.research.google.com/github/Harinidatascientist/i18n-intren/blob/main/Untitled20.ipynb\" target=\"_parent\"><img src=\"https://colab.research.google.com/assets/colab-badge.svg\" alt=\"Open In Colab\"/></a>"
      ]
    },
    {
      "cell_type": "code",
      "execution_count": null,
      "metadata": {
        "id": "lSON1xL_YJxJ",
        "outputId": "d5fe7190-2bda-485c-8893-ce221622ed32",
        "colab": {
          "base_uri": "https://localhost:8080/",
          "height": 159
        }
      },
      "outputs": [
        {
          "output_type": "error",
          "ename": "SyntaxError",
          "evalue": "invalid syntax (<ipython-input-1-101d5a5fcca8>, line 4)",
          "traceback": [
            "\u001b[0;36m  File \u001b[0;32m\"<ipython-input-1-101d5a5fcca8>\"\u001b[0;36m, line \u001b[0;32m4\u001b[0m\n\u001b[0;31m    calculate_simple_interest() {\u001b[0m\n\u001b[0m                                ^\u001b[0m\n\u001b[0;31mSyntaxError\u001b[0m\u001b[0;31m:\u001b[0m invalid syntax\n"
          ]
        }
      ],
      "source": [
        "#!/bin/bash\n",
        "\n",
        "# Function to calculate simple interest\n",
        "calculate_simple_interest() {\n",
        "    principal=$1\n",
        "    rate=$2\n",
        "    time=$3\n",
        "    simple_interest=$(echo \"scale=2; ($principal * $rate * $time) / 100\" | bc)\n",
        "    echo \"Simple Interest: $simple_interest\"\n",
        "}\n",
        "\n",
        "# Function to calculate compound interest\n",
        "calculate_compound_interest() {\n",
        "    principal=$1\n",
        "    rate=$2\n",
        "    time=$3\n",
        "    n=$4\n",
        "    compound_interest=$(echo \"scale=2; $principal * (1 + $rate / (100 * $n))^($n * $time)\" | bc -l)\n",
        "    compound_interest=$(echo \"scale=2; $compound_interest - $principal\" | bc)\n",
        "    echo \"Compound Interest: $compound_interest\"\n",
        "}\n",
        "\n",
        "# Read inputs\n",
        "echo \"Enter the principal amount:\"\n",
        "read principal\n",
        "echo \"Enter the annual interest rate (in %):\"\n",
        "read rate\n",
        "echo \"Enter the time (in years):\"\n",
        "read time\n",
        "echo \"Enter the number of times interest is compounded per year:\"\n",
        "read n\n",
        "\n",
        "# Calculate and display the results\n",
        "calculate_simple_interest $principal $rate $time\n",
        "calculate_compound_interest $principal $rate $time $n"
      ]
    },
    {
      "cell_type": "code",
      "source": [
        "#!/bin/bash\n",
        "\n",
        "# Function to calculate simple interest\n",
        "calculate_simple_interest() {\n",
        "    principal=$1\n",
        "    rate=$2\n",
        "    time=$3\n",
        "    simple_interest=$(echo \"scale=2; ($principal * $rate * $time) / 100\" | bc)\n",
        "    echo \"Simple Interest: $simple_interest\"\n",
        "}\n",
        "\n",
        "# Function to calculate compound interest\n",
        "calculate_compound_interest() {\n",
        "    principal=$1\n",
        "    rate=$2\n",
        "    time=$3\n",
        "    n=$4\n",
        "    compound_interest=$(echo \"scale=2; $principal * (1 + $rate / (100 * $n))^($n * $time)\" | bc -l)\n",
        "    compound_interest=$(echo \"scale=2; $compound_interest - $principal\" | bc)\n",
        "    echo \"Compound Interest: $compound_interest\"\n",
        "}\n",
        "\n",
        "# Read inputs\n",
        "echo \"Enter the principal amount:\"\n",
        "read principal\n",
        "echo \"Enter the annual interest rate (in %):\"\n",
        "read rate\n",
        "echo \"Enter the time (in years):\"\n",
        "read time\n",
        "echo \"Enter the number of times interest is compounded per year:\"\n",
        "read n\n",
        "\n",
        "# Calculate and display the results\n",
        "calculate_simple_interest $principal $rate $time\n",
        "calculate_compound_interest $principal $rate $time $n"
      ],
      "metadata": {
        "id": "TOflSNTkYSMT"
      },
      "execution_count": null,
      "outputs": []
    }
  ]
}